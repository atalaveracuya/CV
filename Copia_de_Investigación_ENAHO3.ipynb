{
  "nbformat": 4,
  "nbformat_minor": 0,
  "metadata": {
    "colab": {
      "provenance": [],
      "include_colab_link": true
    },
    "kernelspec": {
      "name": "python3",
      "display_name": "Python 3"
    },
    "language_info": {
      "name": "python"
    }
  },
  "cells": [
    {
      "cell_type": "markdown",
      "metadata": {
        "id": "view-in-github",
        "colab_type": "text"
      },
      "source": [
        "<a href=\"https://colab.research.google.com/github/atalaveracuya/CV/blob/main/Copia_de_Investigaci%C3%B3n_ENAHO3.ipynb\" target=\"_parent\"><img src=\"https://colab.research.google.com/assets/colab-badge.svg\" alt=\"Open In Colab\"/></a>"
      ]
    },
    {
      "cell_type": "markdown",
      "source": [
        "**Análisis de los Determinantes del Ingreso Laboral en Perú: Un Enfoque de regresión Minceriana y Cuantílica**\n",
        "\n",
        "**Objetivo:**\n",
        "El objetivo principal de este estudio es identificar y analizar los factores que determinan los ingresos laborales en el contexto peruano, utilizando variables como el nivel educativo, la experiencia laboral, la región y el efecto no lineal de la experiencia laboral. El estudio busca evaluar cómo estas variables afectan el logaritmo del ingreso laboral, tanto en términos generales (con regresión lineal) como en diferentes puntos de la distribución de ingresos (mediante regresión cuantílica). Además, se busca proporcionar una comprensión más detallada de las desigualdades salariales asociadas con las distintas regiones del país.\n",
        "\n",
        "**Método:**\n",
        "Para alcanzar los objetivos planteados, se utilizarán dos enfoques principales:\n",
        "\n",
        "**Regresión Minceriana (OLS) :** Se estimará un modelo de regresión lineal ordinaria (OLS) para examinar el impacto del nivel educativo, la experiencia laboral y la experiencia laboral al cuadrado sobre el ingreso laboral, representado en su forma logarítmica. Este modelo también incluye una variable binaria para la región (Costa/Sierra-Selva), con el fin de evaluar las diferencias salariales entre las distintas regiones del país.\n",
        "\n",
        "**Regresión Cuantílica :** Se realizará una regresión cuantílica para estimar los coeficientes en distintos puntos de la distribución de ingresos (por ejemplo, en el primer cuartil, la mediana y el tercer cuartil). Esto permitirá analizar cómo los determinantes del ingreso varían a lo largo de la distribución salarial, proporcionando una visión más completa de las disparidades salariales y su relación con las variables explicativas.\n",
        "\n",
        "Este enfoque metodológico, que combina la regresión lineal y cuantílica, permitirá obtener una perspectiva más robusta sobre los factores que influyen en los ingresos laborales, considerando tanto los efectos promedio como los efectos en diferentes percentiles de la distribución salarial."
      ],
      "metadata": {
        "id": "lOGZBL5_xCHz"
      }
    },
    {
      "cell_type": "markdown",
      "source": [
        "**1° Parte: Tratamiento de datos**\n",
        "\n",
        "**Variables:**\n",
        "\n",
        "Logaritmo natural del ingreso (ln_ing_lab)\n",
        "\n",
        "Experiencia laboral (exp=edad-educ-6)\n",
        "\n",
        "Educación en años (educ)\n",
        "\n",
        "Región (1=Costa; 0=Sierra o Selva)"
      ],
      "metadata": {
        "id": "8f4xXcYlxTOy"
      }
    },
    {
      "cell_type": "code",
      "execution_count": null,
      "metadata": {
        "colab": {
          "base_uri": "https://localhost:8080/",
          "height": 1000
        },
        "id": "gMm4NHn_fMjW",
        "outputId": "1663c39d-d45c-4a3f-ed06-d7ed1b82bcc9"
      },
      "outputs": [
        {
          "output_type": "stream",
          "name": "stdout",
          "text": [
            "Sube tu archivo 'EnahoFusionada.dta'\n"
          ]
        },
        {
          "output_type": "display_data",
          "data": {
            "text/plain": [
              "<IPython.core.display.HTML object>"
            ],
            "text/html": [
              "\n",
              "     <input type=\"file\" id=\"files-5cbc40a8-d89d-4f21-b822-5f1c3bfbb844\" name=\"files[]\" multiple disabled\n",
              "        style=\"border:none\" />\n",
              "     <output id=\"result-5cbc40a8-d89d-4f21-b822-5f1c3bfbb844\">\n",
              "      Upload widget is only available when the cell has been executed in the\n",
              "      current browser session. Please rerun this cell to enable.\n",
              "      </output>\n",
              "      <script>// Copyright 2017 Google LLC\n",
              "//\n",
              "// Licensed under the Apache License, Version 2.0 (the \"License\");\n",
              "// you may not use this file except in compliance with the License.\n",
              "// You may obtain a copy of the License at\n",
              "//\n",
              "//      http://www.apache.org/licenses/LICENSE-2.0\n",
              "//\n",
              "// Unless required by applicable law or agreed to in writing, software\n",
              "// distributed under the License is distributed on an \"AS IS\" BASIS,\n",
              "// WITHOUT WARRANTIES OR CONDITIONS OF ANY KIND, either express or implied.\n",
              "// See the License for the specific language governing permissions and\n",
              "// limitations under the License.\n",
              "\n",
              "/**\n",
              " * @fileoverview Helpers for google.colab Python module.\n",
              " */\n",
              "(function(scope) {\n",
              "function span(text, styleAttributes = {}) {\n",
              "  const element = document.createElement('span');\n",
              "  element.textContent = text;\n",
              "  for (const key of Object.keys(styleAttributes)) {\n",
              "    element.style[key] = styleAttributes[key];\n",
              "  }\n",
              "  return element;\n",
              "}\n",
              "\n",
              "// Max number of bytes which will be uploaded at a time.\n",
              "const MAX_PAYLOAD_SIZE = 100 * 1024;\n",
              "\n",
              "function _uploadFiles(inputId, outputId) {\n",
              "  const steps = uploadFilesStep(inputId, outputId);\n",
              "  const outputElement = document.getElementById(outputId);\n",
              "  // Cache steps on the outputElement to make it available for the next call\n",
              "  // to uploadFilesContinue from Python.\n",
              "  outputElement.steps = steps;\n",
              "\n",
              "  return _uploadFilesContinue(outputId);\n",
              "}\n",
              "\n",
              "// This is roughly an async generator (not supported in the browser yet),\n",
              "// where there are multiple asynchronous steps and the Python side is going\n",
              "// to poll for completion of each step.\n",
              "// This uses a Promise to block the python side on completion of each step,\n",
              "// then passes the result of the previous step as the input to the next step.\n",
              "function _uploadFilesContinue(outputId) {\n",
              "  const outputElement = document.getElementById(outputId);\n",
              "  const steps = outputElement.steps;\n",
              "\n",
              "  const next = steps.next(outputElement.lastPromiseValue);\n",
              "  return Promise.resolve(next.value.promise).then((value) => {\n",
              "    // Cache the last promise value to make it available to the next\n",
              "    // step of the generator.\n",
              "    outputElement.lastPromiseValue = value;\n",
              "    return next.value.response;\n",
              "  });\n",
              "}\n",
              "\n",
              "/**\n",
              " * Generator function which is called between each async step of the upload\n",
              " * process.\n",
              " * @param {string} inputId Element ID of the input file picker element.\n",
              " * @param {string} outputId Element ID of the output display.\n",
              " * @return {!Iterable<!Object>} Iterable of next steps.\n",
              " */\n",
              "function* uploadFilesStep(inputId, outputId) {\n",
              "  const inputElement = document.getElementById(inputId);\n",
              "  inputElement.disabled = false;\n",
              "\n",
              "  const outputElement = document.getElementById(outputId);\n",
              "  outputElement.innerHTML = '';\n",
              "\n",
              "  const pickedPromise = new Promise((resolve) => {\n",
              "    inputElement.addEventListener('change', (e) => {\n",
              "      resolve(e.target.files);\n",
              "    });\n",
              "  });\n",
              "\n",
              "  const cancel = document.createElement('button');\n",
              "  inputElement.parentElement.appendChild(cancel);\n",
              "  cancel.textContent = 'Cancel upload';\n",
              "  const cancelPromise = new Promise((resolve) => {\n",
              "    cancel.onclick = () => {\n",
              "      resolve(null);\n",
              "    };\n",
              "  });\n",
              "\n",
              "  // Wait for the user to pick the files.\n",
              "  const files = yield {\n",
              "    promise: Promise.race([pickedPromise, cancelPromise]),\n",
              "    response: {\n",
              "      action: 'starting',\n",
              "    }\n",
              "  };\n",
              "\n",
              "  cancel.remove();\n",
              "\n",
              "  // Disable the input element since further picks are not allowed.\n",
              "  inputElement.disabled = true;\n",
              "\n",
              "  if (!files) {\n",
              "    return {\n",
              "      response: {\n",
              "        action: 'complete',\n",
              "      }\n",
              "    };\n",
              "  }\n",
              "\n",
              "  for (const file of files) {\n",
              "    const li = document.createElement('li');\n",
              "    li.append(span(file.name, {fontWeight: 'bold'}));\n",
              "    li.append(span(\n",
              "        `(${file.type || 'n/a'}) - ${file.size} bytes, ` +\n",
              "        `last modified: ${\n",
              "            file.lastModifiedDate ? file.lastModifiedDate.toLocaleDateString() :\n",
              "                                    'n/a'} - `));\n",
              "    const percent = span('0% done');\n",
              "    li.appendChild(percent);\n",
              "\n",
              "    outputElement.appendChild(li);\n",
              "\n",
              "    const fileDataPromise = new Promise((resolve) => {\n",
              "      const reader = new FileReader();\n",
              "      reader.onload = (e) => {\n",
              "        resolve(e.target.result);\n",
              "      };\n",
              "      reader.readAsArrayBuffer(file);\n",
              "    });\n",
              "    // Wait for the data to be ready.\n",
              "    let fileData = yield {\n",
              "      promise: fileDataPromise,\n",
              "      response: {\n",
              "        action: 'continue',\n",
              "      }\n",
              "    };\n",
              "\n",
              "    // Use a chunked sending to avoid message size limits. See b/62115660.\n",
              "    let position = 0;\n",
              "    do {\n",
              "      const length = Math.min(fileData.byteLength - position, MAX_PAYLOAD_SIZE);\n",
              "      const chunk = new Uint8Array(fileData, position, length);\n",
              "      position += length;\n",
              "\n",
              "      const base64 = btoa(String.fromCharCode.apply(null, chunk));\n",
              "      yield {\n",
              "        response: {\n",
              "          action: 'append',\n",
              "          file: file.name,\n",
              "          data: base64,\n",
              "        },\n",
              "      };\n",
              "\n",
              "      let percentDone = fileData.byteLength === 0 ?\n",
              "          100 :\n",
              "          Math.round((position / fileData.byteLength) * 100);\n",
              "      percent.textContent = `${percentDone}% done`;\n",
              "\n",
              "    } while (position < fileData.byteLength);\n",
              "  }\n",
              "\n",
              "  // All done.\n",
              "  yield {\n",
              "    response: {\n",
              "      action: 'complete',\n",
              "    }\n",
              "  };\n",
              "}\n",
              "\n",
              "scope.google = scope.google || {};\n",
              "scope.google.colab = scope.google.colab || {};\n",
              "scope.google.colab._files = {\n",
              "  _uploadFiles,\n",
              "  _uploadFilesContinue,\n",
              "};\n",
              "})(self);\n",
              "</script> "
            ]
          },
          "metadata": {}
        },
        {
          "output_type": "stream",
          "name": "stdout",
          "text": [
            "Saving EnahoFusionada.dta to EnahoFusionada.dta\n",
            "\n",
            "Información general del DataFrame:\n",
            "<class 'pandas.core.frame.DataFrame'>\n",
            "RangeIndex: 88388 entries, 0 to 88387\n",
            "Data columns (total 31 columns):\n",
            " #   Column        Non-Null Count  Dtype   \n",
            "---  ------        --------------  -----   \n",
            " 0   index         88388 non-null  int32   \n",
            " 1   a_o_x         88388 non-null  int16   \n",
            " 2   conglome      88388 non-null  int16   \n",
            " 3   vivienda      88388 non-null  int16   \n",
            " 4   hogar_x       88388 non-null  int8    \n",
            " 5   codperso      88388 non-null  int8    \n",
            " 6   edad          88388 non-null  int8    \n",
            " 7   factor07      88388 non-null  float32 \n",
            " 8   factora07     88388 non-null  float32 \n",
            " 9   hhid          88388 non-null  object  \n",
            " 10  jh            88388 non-null  category\n",
            " 11  sexo          88388 non-null  category\n",
            " 12  nived         88317 non-null  category\n",
            " 13  ebr           88317 non-null  category\n",
            " 14  lengua        88388 non-null  category\n",
            " 15  internet      88259 non-null  category\n",
            " 16  jhm           34736 non-null  float32 \n",
            " 17  educ          88227 non-null  float32 \n",
            " 18  temppriin     55014 non-null  category\n",
            " 19  a_o_y         88388 non-null  int16   \n",
            " 20  hogar_y       88388 non-null  int8    \n",
            " 21  fac500a       88388 non-null  float32 \n",
            " 22  hhidp         88388 non-null  float32 \n",
            " 23  region        88388 non-null  category\n",
            " 24  zona          88388 non-null  category\n",
            " 25  departamento  88388 non-null  category\n",
            " 26  ing_total     60655 non-null  float32 \n",
            " 27  ln_ing_lab    53510 non-null  float32 \n",
            " 28  inclusion     79306 non-null  category\n",
            " 29  tactividad    88388 non-null  category\n",
            " 30  tdesa         62963 non-null  category\n",
            "dtypes: category(13), float32(8), int16(4), int32(1), int8(4), object(1)\n",
            "memory usage: 5.8+ MB\n",
            "None\n",
            "\n",
            "Primeras filas del DataFrame:\n",
            "   index  a_o_x  conglome  vivienda  hogar_x  codperso  edad    factor07  \\\n",
            "0      0   2023      5030         2       11         1    43  118.374542   \n",
            "1      1   2023      5030         2       11         2    41  118.374542   \n",
            "2      2   2023      5030        11       11         1    60  118.374542   \n",
            "3      3   2023      5030        11       11         2    59  118.374542   \n",
            "4      4   2023      5030        11       11         3    38  118.374542   \n",
            "\n",
            "    factora07         hhid  ...     fac500a   hhidp region    zona  \\\n",
            "0  165.623856  00503000211  ...  165.623856  5044.0  Selva  urbana   \n",
            "1  112.328087  00503000211  ...  112.328087  5045.0  Selva  urbana   \n",
            "2   96.035370  00503001111  ...   96.035370  5053.0  Selva  urbana   \n",
            "3   86.868881  00503001111  ...   86.868881  5054.0  Selva  urbana   \n",
            "4  185.492355  00503001111  ...  185.492355  5055.0  Selva  urbana   \n",
            "\n",
            "  departamento    ing_total  ln_ing_lab  inclusion         tactividad  \\\n",
            "0     Amazonas  1936.916626    7.568852     accede  Tasa de Actividad   \n",
            "1     Amazonas  2917.750000    7.978568     accede  Tasa de Actividad   \n",
            "2     Amazonas  4843.250000    8.485341  no accede  Tasa de Actividad   \n",
            "3     Amazonas     0.000000         NaN  no accede  Tasa de Actividad   \n",
            "4     Amazonas   639.416687    6.460557  no accede  Tasa de Actividad   \n",
            "\n",
            "      tdesa  \n",
            "0  Ocupados  \n",
            "1  Ocupados  \n",
            "2  Ocupados  \n",
            "3  Ocupados  \n",
            "4  Ocupados  \n",
            "\n",
            "[5 rows x 31 columns]\n"
          ]
        }
      ],
      "source": [
        "# Importar bibliotecas necesarias\n",
        "import pandas as pd\n",
        "from google.colab import files\n",
        "\n",
        "# Subir archivo de manera manual\n",
        "print(\"Sube tu archivo 'EnahoFusionada.dta'\")\n",
        "uploaded = files.upload()\n",
        "\n",
        "# Cargar el archivo .dta en un DataFrame de pandas\n",
        "file_name = list(uploaded.keys())[0]  # Obtener el nombre del archivo cargado\n",
        "df = pd.read_stata(file_name)\n",
        "\n",
        "# Mostrar información general del DataFrame\n",
        "print(\"\\nInformación general del DataFrame:\")\n",
        "print(df.info())\n",
        "\n",
        "# Mostrar las primeras filas para revisar las variables\n",
        "print(\"\\nPrimeras filas del DataFrame:\")\n",
        "print(df.head())\n"
      ]
    },
    {
      "cell_type": "code",
      "source": [
        "import pandas as pd\n",
        "import numpy as np  # Asegurarse de importar NumPy\n",
        "import seaborn as sns\n",
        "import matplotlib.pyplot as plt\n",
        "from google.colab import files"
      ],
      "metadata": {
        "id": "alcG1KwupTNE"
      },
      "execution_count": null,
      "outputs": []
    },
    {
      "cell_type": "code",
      "source": [
        "# Crear la variable 'exp' (experiencia laboral)\n",
        "# Supongo que 'edad' y 'educ' están disponibles en el dataset\n",
        "# Experiencia laboral se calcula como edad - años de educación - 6\n",
        "df['exp'] = df['edad'] - df['educ'] - 6"
      ],
      "metadata": {
        "id": "THCUPHprqDKD"
      },
      "execution_count": null,
      "outputs": []
    },
    {
      "cell_type": "code",
      "source": [
        "# Reemplazar valores negativos o NaN con 0, en caso de ser necesario\n",
        "df['exp'] = df['exp'].apply(lambda x: max(x, 0))"
      ],
      "metadata": {
        "id": "sfJOGGYuqG-i"
      },
      "execution_count": null,
      "outputs": []
    },
    {
      "cell_type": "code",
      "source": [
        "# Verificar la creación de la variable 'exp'\n",
        "print(\"\\nPrimeras filas con la nueva variable 'exp':\")\n",
        "print(df[['edad', 'educ', 'exp']].head(10))"
      ],
      "metadata": {
        "colab": {
          "base_uri": "https://localhost:8080/"
        },
        "id": "VQO3uoikqJgM",
        "outputId": "7c4bc185-98e9-4ff5-8e29-6c8bda3eb09e"
      },
      "execution_count": null,
      "outputs": [
        {
          "output_type": "stream",
          "name": "stdout",
          "text": [
            "\n",
            "Primeras filas con la nueva variable 'exp':\n",
            "   edad  educ   exp\n",
            "0    43  14.0  23.0\n",
            "1    41  16.0  19.0\n",
            "2    60   6.0  48.0\n",
            "3    59   7.0  46.0\n",
            "4    38  11.0  21.0\n",
            "5    30  14.0  10.0\n",
            "6    29  11.0  12.0\n",
            "7    81   3.0  72.0\n",
            "8    58   6.0  46.0\n",
            "9    50  18.0  26.0\n"
          ]
        }
      ]
    },
    {
      "cell_type": "code",
      "source": [
        "# Análisis descriptivo de las variables involucradas\n",
        "variables = ['ln_ing_lab', 'educ', 'exp', 'region_d']"
      ],
      "metadata": {
        "id": "xWDjmf3yqMNU"
      },
      "execution_count": null,
      "outputs": []
    },
    {
      "cell_type": "code",
      "source": [
        "# Verificar valores faltantes por variable\n",
        "valores_faltantes = df[variables].isnull().sum()\n",
        "print(\"\\nValores faltantes por variable:\\n\", valores_faltantes)"
      ],
      "metadata": {
        "colab": {
          "base_uri": "https://localhost:8080/"
        },
        "id": "67WqJEBFqZ16",
        "outputId": "0b76cdde-1bdf-408a-f207-4f086c01f7b8"
      },
      "execution_count": null,
      "outputs": [
        {
          "output_type": "stream",
          "name": "stdout",
          "text": [
            "\n",
            "Valores faltantes por variable:\n",
            " ln_ing_lab    34878\n",
            "educ            161\n",
            "exp             161\n",
            "region_d          0\n",
            "dtype: int64\n"
          ]
        }
      ]
    },
    {
      "cell_type": "code",
      "source": [
        "# Verificar los valores únicos en 'region'\n",
        "print(df['region'].unique())"
      ],
      "metadata": {
        "colab": {
          "base_uri": "https://localhost:8080/"
        },
        "id": "q3o_FCYltpDU",
        "outputId": "159b79ef-9443-4d4d-d81f-29efc9fbf27e"
      },
      "execution_count": null,
      "outputs": [
        {
          "output_type": "stream",
          "name": "stdout",
          "text": [
            "['Selva', 'Sierra', 'Costa']\n",
            "Categories (3, object): ['Costa' < 'Sierra' < 'Selva']\n"
          ]
        }
      ]
    },
    {
      "cell_type": "code",
      "source": [
        "# Crear la nueva variable 'region_2' basándonos en las categorías de la variable 'region'\n",
        "df['region_2'] = df['region'].apply(lambda x: 1 if x == 'Costa' else 0)\n",
        "\n",
        "# Verificar las primeras filas para confirmar la creación de la nueva variable\n",
        "print(df[['region', 'region_2']].head())\n"
      ],
      "metadata": {
        "colab": {
          "base_uri": "https://localhost:8080/"
        },
        "id": "cgLQKhbTt21h",
        "outputId": "ae380a57-7c3f-4f5d-f764-fc7d55359a25"
      },
      "execution_count": null,
      "outputs": [
        {
          "output_type": "stream",
          "name": "stdout",
          "text": [
            "  region  region_2\n",
            "0  Selva         0\n",
            "1  Selva         0\n",
            "2  Selva         0\n",
            "3  Selva         0\n",
            "4  Selva         0\n"
          ]
        }
      ]
    },
    {
      "cell_type": "code",
      "source": [
        "# Verificar los valores únicos en 'region_2'\n",
        "print(df['region_2'].unique())\n",
        "\n",
        "# Contar las frecuencias de 'region_2'\n",
        "print(df['region_2'].value_counts())\n",
        "\n",
        "# Verificar la relación entre 'region' y 'region_2'\n",
        "print(pd.crosstab(df['region'], df['region_2']))\n"
      ],
      "metadata": {
        "colab": {
          "base_uri": "https://localhost:8080/"
        },
        "id": "8hkFHTmtt7dp",
        "outputId": "4c64f110-4cb1-4001-d1d2-c9e5c5dd65e6"
      },
      "execution_count": null,
      "outputs": [
        {
          "output_type": "stream",
          "name": "stdout",
          "text": [
            "[0 1]\n",
            "region_2\n",
            "0    48349\n",
            "1    40039\n",
            "Name: count, dtype: int64\n",
            "region_2      0      1\n",
            "region                \n",
            "Costa         0  40039\n",
            "Sierra    29451      0\n",
            "Selva     18898      0\n"
          ]
        }
      ]
    },
    {
      "cell_type": "code",
      "source": [
        "# Mapeo explícito para la creación de la nueva variable 'region_2'\n",
        "region_mapping = {'Costa': 1, 'Sierra': 0, 'Selva': 0}\n",
        "df['region_2'] = df['region'].map(region_mapping)\n",
        "\n",
        "# Verificar las primeras filas para confirmar la creación de la nueva variable\n",
        "print(df[['region', 'region_2']].head())\n",
        "\n",
        "# Verificar los valores únicos en 'region_2'\n",
        "print(df['region_2'].unique())\n",
        "\n",
        "# Contar las frecuencias de 'region_2'\n",
        "print(df['region_2'].value_counts())\n",
        "\n",
        "# Verificar la relación entre 'region' y 'region_2'\n",
        "print(pd.crosstab(df['region'], df['region_2']))\n"
      ],
      "metadata": {
        "colab": {
          "base_uri": "https://localhost:8080/"
        },
        "id": "oN04pMRruWJc",
        "outputId": "d04403bd-21ea-4798-8fb5-48591350d141"
      },
      "execution_count": null,
      "outputs": [
        {
          "output_type": "stream",
          "name": "stdout",
          "text": [
            "  region  region_2\n",
            "0  Selva         0\n",
            "1  Selva         0\n",
            "2  Selva         0\n",
            "3  Selva         0\n",
            "4  Selva         0\n",
            "[0 1]\n",
            "region_2\n",
            "0    48349\n",
            "1    40039\n",
            "Name: count, dtype: int64\n",
            "region_2      0      1\n",
            "region                \n",
            "Costa         0  40039\n",
            "Sierra    29451      0\n",
            "Selva     18898      0\n"
          ]
        }
      ]
    },
    {
      "cell_type": "code",
      "source": [
        "# Revisar si las variables tienen valores nulos\n",
        "nulos = df[['ln_ing_lab', 'exp', 'educ', 'region_2']].isnull().sum()\n",
        "\n",
        "# Mostrar el resultado\n",
        "print(nulos)\n"
      ],
      "metadata": {
        "colab": {
          "base_uri": "https://localhost:8080/"
        },
        "id": "vS4ezwTlvRPi",
        "outputId": "4393b314-5e36-4dbe-9533-8d7f0beaeee0"
      },
      "execution_count": null,
      "outputs": [
        {
          "output_type": "stream",
          "name": "stdout",
          "text": [
            "ln_ing_lab    34878\n",
            "exp             161\n",
            "educ            161\n",
            "region_2          0\n",
            "dtype: int64\n"
          ]
        }
      ]
    },
    {
      "cell_type": "code",
      "source": [
        "# Eliminar filas con valores nulos en las columnas 'ln_ing_lab', 'exp', y 'educ'\n",
        "df_clean = df.dropna(subset=['ln_ing_lab', 'exp', 'educ'])\n",
        "\n",
        "# Verificar el tamaño del DataFrame después de eliminar las filas con valores nulos\n",
        "print(df_clean.shape)\n",
        "\n",
        "# Revisar nuevamente si hay valores nulos\n",
        "print(df_clean[['ln_ing_lab', 'exp', 'educ', 'region_2']].isnull().sum())\n"
      ],
      "metadata": {
        "colab": {
          "base_uri": "https://localhost:8080/"
        },
        "id": "MdqYzcRQvfQ7",
        "outputId": "27f98437-1252-4000-afc5-69af8dd50b0b"
      },
      "execution_count": null,
      "outputs": [
        {
          "output_type": "stream",
          "name": "stdout",
          "text": [
            "(53478, 34)\n",
            "ln_ing_lab    0\n",
            "exp           0\n",
            "educ          0\n",
            "region_2      0\n",
            "dtype: int64\n"
          ]
        }
      ]
    },
    {
      "cell_type": "markdown",
      "source": [
        "**2° Parte: Análisis descriptivo**"
      ],
      "metadata": {
        "id": "HmNNQxvox8lq"
      }
    },
    {
      "cell_type": "code",
      "source": [
        "# Análisis descriptivo para las variables numéricas\n",
        "descripcion = df_clean[['ln_ing_lab', 'educ', 'exp', 'exp_squared']].describe()\n",
        "\n",
        "# Estadísticas adicionales para la variable 'region_2' (contar la frecuencia de 0 y 1)\n",
        "region_2_frecuencia = df_clean['region_2'].value_counts()\n",
        "\n",
        "# Mostrar el análisis descriptivo y la frecuencia de 'region_2'\n",
        "print(\"Análisis descriptivo de las variables numéricas:\")\n",
        "print(descripcion)\n",
        "\n",
        "print(\"\\nFrecuencia de la variable 'region_2' (costa = 1, sierra/selva = 0):\")\n",
        "print(region_2_frecuencia)\n"
      ],
      "metadata": {
        "colab": {
          "base_uri": "https://localhost:8080/"
        },
        "id": "bpqtTW7swocC",
        "outputId": "11bfe46e-f31c-4f43-fc05-319e35f601ee"
      },
      "execution_count": null,
      "outputs": [
        {
          "output_type": "stream",
          "name": "stdout",
          "text": [
            "Análisis descriptivo de las variables numéricas:\n",
            "         ln_ing_lab          educ           exp   exp_squared\n",
            "count  53478.000000  53478.000000  53478.000000  53478.000000\n",
            "mean       6.790932      9.745802     28.178429   1128.727589\n",
            "std        1.100038      4.448330     18.295082   1236.254462\n",
            "min        0.693147      0.000000      0.000000      0.000000\n",
            "25%        6.217770      6.000000     13.000000    169.000000\n",
            "50%        6.972294     11.000000     27.000000    729.000000\n",
            "75%        7.500150     13.000000     41.000000   1681.000000\n",
            "max       11.081927     18.000000     92.000000   8464.000000\n",
            "\n",
            "Frecuencia de la variable 'region_2' (costa = 1, sierra/selva = 0):\n",
            "region_2\n",
            "0    28950\n",
            "1    24528\n",
            "Name: count, dtype: int64\n"
          ]
        }
      ]
    },
    {
      "cell_type": "code",
      "source": [
        "# Visualización: Distribución de ingresos laborales logarítmicos\n",
        "sns.histplot(df['ln_ing_lab'].dropna(), kde=True, bins=30, color='blue')\n",
        "plt.title(\"Distribución de ln_ing_lab (Logaritmo del Ingreso Laboral)\")\n",
        "plt.xlabel(\"ln_ing_lab\")\n",
        "plt.ylabel(\"Frecuencia\")\n",
        "plt.show()"
      ],
      "metadata": {
        "colab": {
          "base_uri": "https://localhost:8080/",
          "height": 472
        },
        "id": "Us61n-pdqdF6",
        "outputId": "3d78a73c-b785-4871-d102-9d7014c7ed10"
      },
      "execution_count": null,
      "outputs": [
        {
          "output_type": "display_data",
          "data": {
            "text/plain": [
              "<Figure size 640x480 with 1 Axes>"
            ],
            "image/png": "[encoded data removed]"
          },
          "metadata": {}
        }
      ]
    },
    {
      "cell_type": "markdown",
      "source": [
        "**3° Parte: Modelo econométrico**"
      ],
      "metadata": {
        "id": "qYXZ4X0HyEr7"
      }
    },
    {
      "cell_type": "markdown",
      "source": [
        "**Modelo 1: Ecuación Mincer**\n",
        "\n",
        "ln_ing_lab= B0 + B1(educ) + B2(exp) + B3(exp*exp) + B4(region_2) + e"
      ],
      "metadata": {
        "id": "OtN3Q55jyJZj"
      }
    },
    {
      "cell_type": "code",
      "source": [
        "import statsmodels.api as sm\n",
        "\n",
        "# Crear la variable exp al cuadrado\n",
        "df_clean['exp_squared'] = df_clean['exp'] ** 2\n",
        "\n",
        "# Definir las variables dependiente e independientes\n",
        "X = df_clean[['educ', 'exp', 'exp_squared', 'region_2']]  # Variables independientes\n",
        "y = df_clean['ln_ing_lab']  # Variable dependiente\n",
        "\n",
        "# Agregar una constante (intercepto) al modelo\n",
        "X = sm.add_constant(X)\n",
        "\n",
        "# Ajustar el modelo de regresión\n",
        "modelo = sm.OLS(y, X).fit()\n",
        "\n",
        "# Resumen del modelo\n",
        "print(modelo.summary())\n"
      ],
      "metadata": {
        "colab": {
          "base_uri": "https://localhost:8080/"
        },
        "id": "5YfKd_x5wBTy",
        "outputId": "cab32a55-2a36-4601-e4f9-3eb92db440bf"
      },
      "execution_count": null,
      "outputs": [
        {
          "output_type": "stream",
          "name": "stdout",
          "text": [
            "                            OLS Regression Results                            \n",
            "==============================================================================\n",
            "Dep. Variable:             ln_ing_lab   R-squared:                       0.197\n",
            "Model:                            OLS   Adj. R-squared:                  0.197\n",
            "Method:                 Least Squares   F-statistic:                     3280.\n",
            "Date:                Thu, 26 Dec 2024   Prob (F-statistic):               0.00\n",
            "Time:                        06:56:00   Log-Likelihood:                -75114.\n",
            "No. Observations:               53478   AIC:                         1.502e+05\n",
            "Df Residuals:                   53473   BIC:                         1.503e+05\n",
            "Df Model:                           4                                         \n",
            "Covariance Type:            nonrobust                                         \n",
            "===============================================================================\n",
            "                  coef    std err          t      P>|t|      [0.025      0.975]\n",
            "-------------------------------------------------------------------------------\n",
            "const           5.4597      0.018    296.706      0.000       5.424       5.496\n",
            "educ            0.0869      0.001     71.314      0.000       0.085       0.089\n",
            "exp             0.0356      0.001     47.777      0.000       0.034       0.037\n",
            "exp_squared    -0.0005   1.13e-05    -47.658      0.000      -0.001      -0.001\n",
            "region_2        0.1898      0.009     21.616      0.000       0.173       0.207\n",
            "==============================================================================\n",
            "Omnibus:                     8641.597   Durbin-Watson:                   1.881\n",
            "Prob(Omnibus):                  0.000   Jarque-Bera (JB):            17552.472\n",
            "Skew:                          -0.983   Prob(JB):                         0.00\n",
            "Kurtosis:                       5.004   Cond. No.                     7.25e+03\n",
            "==============================================================================\n",
            "\n",
            "Notes:\n",
            "[1] Standard Errors assume that the covariance matrix of the errors is correctly specified.\n",
            "[2] The condition number is large, 7.25e+03. This might indicate that there are\n",
            "strong multicollinearity or other numerical problems.\n"
          ]
        },
        {
          "output_type": "stream",
          "name": "stderr",
          "text": [
            "<ipython-input-29-6ca32795aeb7>:4: SettingWithCopyWarning: \n",
            "A value is trying to be set on a copy of a slice from a DataFrame.\n",
            "Try using .loc[row_indexer,col_indexer] = value instead\n",
            "\n",
            "See the caveats in the documentation: https://pandas.pydata.org/pandas-docs/stable/user_guide/indexing.html#returning-a-view-versus-a-copy\n",
            "  df_clean['exp_squared'] = df_clean['exp'] ** 2\n"
          ]
        }
      ]
    },
    {
      "cell_type": "markdown",
      "source": [
        "**Modelo 2: Regresión cuantílica**\n",
        "\n",
        "Cuantil 25"
      ],
      "metadata": {
        "id": "ZVc_mbS3y2pa"
      }
    },
    {
      "cell_type": "code",
      "source": [
        "import statsmodels.api as sm\n",
        "from statsmodels.regression.quantile_regression import QuantReg\n",
        "\n",
        "# Definir las variables dependiente e independientes\n",
        "X = df_clean[['educ', 'exp', 'exp_squared', 'region_2']]  # Variables independientes\n",
        "y = df_clean['ln_ing_lab']  # Variable dependiente\n",
        "\n",
        "# Agregar una constante (intercepto) al modelo\n",
        "X = sm.add_constant(X)\n",
        "\n",
        "# Especificar el cuantil que deseas estimar (por ejemplo, 0.25 para el primer cuartil)\n",
        "cuantil = 0.25\n",
        "\n",
        "# Ajustar el modelo de regresión cuantílica\n",
        "modelo_cuantil = QuantReg(y, X).fit(q=cuantil)\n",
        "\n",
        "# Mostrar el resumen del modelo\n",
        "print(modelo_cuantil.summary())\n"
      ],
      "metadata": {
        "colab": {
          "base_uri": "https://localhost:8080/"
        },
        "id": "K3xBrrWWwVyT",
        "outputId": "f7c0f411-2526-4239-81b4-ffd25912dd26"
      },
      "execution_count": null,
      "outputs": [
        {
          "output_type": "stream",
          "name": "stdout",
          "text": [
            "                         QuantReg Regression Results                          \n",
            "==============================================================================\n",
            "Dep. Variable:             ln_ing_lab   Pseudo R-squared:               0.1232\n",
            "Model:                       QuantReg   Bandwidth:                     0.09185\n",
            "Method:                 Least Squares   Sparsity:                        3.430\n",
            "Date:                Thu, 26 Dec 2024   No. Observations:                53478\n",
            "Time:                        06:57:21   Df Residuals:                    53473\n",
            "                                        Df Model:                            4\n",
            "===============================================================================\n",
            "                  coef    std err          t      P>|t|      [0.025      0.975]\n",
            "-------------------------------------------------------------------------------\n",
            "const           4.8613      0.029    169.008      0.000       4.805       4.918\n",
            "educ            0.0961      0.002     53.062      0.000       0.093       0.100\n",
            "exp             0.0394      0.001     34.823      0.000       0.037       0.042\n",
            "exp_squared    -0.0006   1.66e-05    -38.270      0.000      -0.001      -0.001\n",
            "region_2        0.2894      0.013     21.980      0.000       0.264       0.315\n",
            "===============================================================================\n",
            "\n",
            "The condition number is large, 7.25e+03. This might indicate that there are\n",
            "strong multicollinearity or other numerical problems.\n"
          ]
        }
      ]
    },
    {
      "cell_type": "markdown",
      "source": [
        "**Modelo 3: Regresión cuantílica**\n",
        "\n",
        "Cuantil 50"
      ],
      "metadata": {
        "id": "1oHVaLqszCGb"
      }
    },
    {
      "cell_type": "code",
      "source": [
        "import statsmodels.api as sm\n",
        "from statsmodels.regression.quantile_regression import QuantReg\n",
        "\n",
        "# Definir las variables dependiente e independientes\n",
        "X = df_clean[['educ', 'exp', 'exp_squared', 'region_2']]  # Variables independientes\n",
        "y = df_clean['ln_ing_lab']  # Variable dependiente\n",
        "\n",
        "# Agregar una constante (intercepto) al modelo\n",
        "X = sm.add_constant(X)\n",
        "\n",
        "# Especificar el cuantil que deseas estimar (por ejemplo, 0.25 para el primer cuartil)\n",
        "cuantil = 0.50\n",
        "\n",
        "# Ajustar el modelo de regresión cuantílica\n",
        "modelo_cuantil = QuantReg(y, X).fit(q=cuantil)\n",
        "\n",
        "# Mostrar el resumen del modelo\n",
        "print(modelo_cuantil.summary())\n"
      ],
      "metadata": {
        "colab": {
          "base_uri": "https://localhost:8080/"
        },
        "id": "J_SRUNRLwXZD",
        "outputId": "406a782e-73d8-49e8-b636-d18ed8330901"
      },
      "execution_count": null,
      "outputs": [
        {
          "output_type": "stream",
          "name": "stdout",
          "text": [
            "                         QuantReg Regression Results                          \n",
            "==============================================================================\n",
            "Dep. Variable:             ln_ing_lab   Pseudo R-squared:               0.1203\n",
            "Model:                       QuantReg   Bandwidth:                      0.1051\n",
            "Method:                 Least Squares   Sparsity:                        1.885\n",
            "Date:                Thu, 26 Dec 2024   No. Observations:                53478\n",
            "Time:                        06:57:32   Df Residuals:                    53473\n",
            "                                        Df Model:                            4\n",
            "===============================================================================\n",
            "                  coef    std err          t      P>|t|      [0.025      0.975]\n",
            "-------------------------------------------------------------------------------\n",
            "const           5.6816      0.018    323.014      0.000       5.647       5.716\n",
            "educ            0.0853      0.001     73.204      0.000       0.083       0.088\n",
            "exp             0.0344      0.001     48.252      0.000       0.033       0.036\n",
            "exp_squared    -0.0005   1.08e-05    -50.115      0.000      -0.001      -0.001\n",
            "region_2        0.1625      0.008     19.355      0.000       0.146       0.179\n",
            "===============================================================================\n",
            "\n",
            "The condition number is large, 7.25e+03. This might indicate that there are\n",
            "strong multicollinearity or other numerical problems.\n"
          ]
        }
      ]
    },
    {
      "cell_type": "markdown",
      "source": [
        "**Modelo 4: Regresión cuantílica**\n",
        "\n",
        "Cuantil 75"
      ],
      "metadata": {
        "id": "uayBOGsLzIfj"
      }
    },
    {
      "cell_type": "code",
      "source": [
        "import statsmodels.api as sm\n",
        "from statsmodels.regression.quantile_regression import QuantReg\n",
        "\n",
        "# Definir las variables dependiente e independientes\n",
        "X = df_clean[['educ', 'exp', 'exp_squared', 'region_2']]  # Variables independientes\n",
        "y = df_clean['ln_ing_lab']  # Variable dependiente\n",
        "\n",
        "# Agregar una constante (intercepto) al modelo\n",
        "X = sm.add_constant(X)\n",
        "\n",
        "# Especificar el cuantil que deseas estimar (por ejemplo, 0.25 para el primer cuartil)\n",
        "cuantil = 0.75\n",
        "\n",
        "# Ajustar el modelo de regresión cuantílica\n",
        "modelo_cuantil = QuantReg(y, X).fit(q=cuantil)\n",
        "\n",
        "# Mostrar el resumen del modelo\n",
        "print(modelo_cuantil.summary())\n"
      ],
      "metadata": {
        "colab": {
          "base_uri": "https://localhost:8080/"
        },
        "id": "4rpQ7wwHwaPz",
        "outputId": "92237101-3e1d-4eae-e1fa-741305ff88b9"
      },
      "execution_count": null,
      "outputs": [
        {
          "output_type": "stream",
          "name": "stdout",
          "text": [
            "                         QuantReg Regression Results                          \n",
            "==============================================================================\n",
            "Dep. Variable:             ln_ing_lab   Pseudo R-squared:               0.1230\n",
            "Model:                       QuantReg   Bandwidth:                     0.09240\n",
            "Method:                 Least Squares   Sparsity:                        2.094\n",
            "Date:                Thu, 26 Dec 2024   No. Observations:                53478\n",
            "Time:                        06:57:43   Df Residuals:                    53473\n",
            "                                        Df Model:                            4\n",
            "===============================================================================\n",
            "                  coef    std err          t      P>|t|      [0.025      0.975]\n",
            "-------------------------------------------------------------------------------\n",
            "const           6.2125      0.017    358.549      0.000       6.179       6.246\n",
            "educ            0.0809      0.001     67.380      0.000       0.079       0.083\n",
            "exp             0.0318      0.001     46.645      0.000       0.030       0.033\n",
            "exp_squared    -0.0005   1.05e-05    -44.001      0.000      -0.000      -0.000\n",
            "region_2        0.1015      0.008     12.395      0.000       0.085       0.118\n",
            "===============================================================================\n",
            "\n",
            "The condition number is large, 7.25e+03. This might indicate that there are\n",
            "strong multicollinearity or other numerical problems.\n"
          ]
        }
      ]
    },
    {
      "cell_type": "markdown",
      "source": [
        "**4° Parte: Análisis de resultados**"
      ],
      "metadata": {
        "id": "tDwVCVNc0BKF"
      }
    },
    {
      "cell_type": "markdown",
      "source": [
        "**Análisis de la ecuación MINCER**\n",
        "\n",
        "Los resultados de la regresión Minceriana proporcionan una visión clara de los factores que determinan el ingreso laboral en la muestra analizada. A continuación, se analizan los coeficientes estimados para las variables de interés:\n",
        "\n",
        "**Constante (Intercepto) :** El coeficiente de la constante es 5.4597 , lo que indica el valor logarítmico del ingreso cuando todas las variables independientes son cero. Este valor es altamente significativo (p-valor < 0.000), lo que sugiere que el intercepto es estadísticamente relevante.\n",
        "\n",
        "**Educación (educ) :** El coeficiente de la variable educ es 0.0869 , lo que indica que, manteniendo constantes las demás variables, cada año adicional de educación aumenta el logaritmo del ingreso en 0.0869 unidades. Este coeficiente es altamente significativo (p-valor < 0.000), lo que confirma que la educación tiene un impacto positivo y estadísticamente significativo sobre los ingresos.\n",
        "\n",
        "**Experiencia laboral (exp) :**  El coeficiente para exp es 0.0356 , lo que sugiere que, ceteris paribus, cada año adicional de experiencia laboral aumenta el logaritmo del ingreso en 0.0356 unidades. Este resultado también es altamente significativo (p-valor < 0.000), lo que resalta el valor de la experiencia en la determinación del ingreso laboral.\n",
        "\n",
        "**Experiencia laboral al cuadrado (exp_squared) :** El coeficiente de exp_squared es -0.0005 , lo que indica una relación no lineal entre la experiencia laboral y los ingresos. Este valor negativo sugiere que, después de cierto punto, el aumento de la experiencia laboral tiene un efecto decreciente sobre el ingreso. El coeficiente es también altamente significativo (p-valor < 0.000), lo que respalda la hipótesis de una relación cuadrática entre la experiencia y los ingresos.\n",
        "\n",
        "**Región (region_2) :** El coeficiente para region_2 es ​​0.1898 , lo que indica que, en promedio, las personas que viven en la costa (valor 1) tienen un ingreso logarítmico superior en 0.1898 unidades en comparación con aquellos que residen en la sierra o selva (valor 0). Este coeficiente es altamente significativo (p-valor < 0.000), lo que implica que la ubicación geográfica tiene un impacto estadísticamente significativo sobre los ingresos."
      ],
      "metadata": {
        "id": "KY5HkPrF0Ej5"
      }
    },
    {
      "cell_type": "markdown",
      "source": [
        "**Análisis de las regresiones cuantílicas**\n",
        "\n",
        "Análisis Comparativo de los Resultados de la Regresión Cuantílica (25, 50 y 75)\n",
        "\n",
        "**1. Constante (Intercepto):**\n",
        "\n",
        "Cantidad 25 : 4.8613\n",
        "\n",
        "Cantidad 50 : 5.6816\n",
        "\n",
        "Cuantía 75 : 6.2125\n",
        "\n",
        "El intercepto muestra una tendencia ascendente a medida que aumentan los cuantiles. Esto sugiere que los individuos con mayores ingresos (cuantil 75) tienen un nivel base de ingreso más alto que aquellos en los cuantiles 25 y 50. Este patrón es consistente con la idea de que los trabajadores con mayores ingresos inician con una ventaja.\n",
        "\n",
        "**2. Educación (educ):**\n",
        "\n",
        "Cuantía 25 : 0,0961\n",
        "\n",
        "Cantidad 50 : 0.0853\n",
        "\n",
        "Cuantía 75 : 0,0809\n",
        "\n",
        "El coeficiente de educación es positivo y significativo en todos los cuantiles, pero su valor disminuye conforme se aumenta el cuantil. La educación tiene un impacto relativamente mayor sobre los ingresos de los individuos en el cuantil 25 (bajos ingresos). Esto puede reflejar que las personas con menores ingresos experimentan un mayor retorno a la educación, dado que este grupo podría tener menos capital humano inicial.\n",
        "\n",
        "\n",
        "**3. Experiencia Laboral (exp):**\n",
        "\n",
        "Cuantía 25 : 0,0394\n",
        "\n",
        "Cantidad 50 : 0.0344\n",
        "\n",
        "Cuantía 75 : 0,0318\n",
        "\n",
        "La experiencia laboral tiene un efecto positivo sobre los ingresos en todos los cuantiles, pero su impacto disminuye conforme aumentan los ingresos. Los trabajadores en el cuantil 25 experimentan un mayor retorno por año de experiencia, lo que sugiere que para aquellos con salarios más bajos, cada año adicional de experiencia tiene un mayor impacto en el ingreso.\n",
        "\n",
        "**4. Experiencia Laboral al Cuadrado (exp_squared):**\n",
        "\n",
        "Cuantía 25 : -0,0006\n",
        "\n",
        "Cantidad 50 : -0.0005\n",
        "\n",
        "Cuantía 75 : -0,0005\n",
        "\n",
        "El coeficiente negativo para la experiencia cuadrática en todos los cuantiles indica una relación decreciente entre la experiencia y el ingreso. A medida que los individuos ganan más experiencia, el retorno por experiencia adicional se reduce. La magnitud del coeficiente es ligeramente mayor en el cuantil 25, lo que sugiere que el efecto decreciente es más fuerte en los trabajadores con ingresos más bajos.\n",
        "\n",
        "**5. Región (region_2):**\n",
        "\n",
        "Cuantía 25 : 0,2894\n",
        "\n",
        "Cantidad 50 : 0,1625\n",
        "\n",
        "Cuantía 75 : 0,1015\n",
        "\n",
        "El coeficiente de la variable región_2 muestra una disminución significativa a medida que se sube en la distribución salarial. En el cuantil 25, la ventaja de vivir en la costa (región 2) es considerablemente más alta (0.2894), mientras que en los cuantiles 50 y 75 la ventaja disminuye a 0.1625 y 0.1015, respectivamente. Esto podría reflejar que la ubicación geográfica tiene un impacto más fuerte en los individuos de bajos ingresos, posiblemente debido a factores como la concentración de sectores económicos o empleos mejor remunerados en ciertas regiones.\n",
        "\n",
        "**Conclusiones Globales:**\n",
        "\n",
        "Efecto de la educación : La educación sigue teniendo un impacto positivo y significativo sobre los ingresos en todos los cuantiles. Sin embargo, el retorno a la educación es más pronunciado en los individuos con ingresos más bajos (cuantil 25). Esto podría indicar que los trabajadores de bajos ingresos se benefician más de la educación, tal vez porque poseen menos capital humano o acceden a empleos de alta calidad al inicio.\n",
        "\n",
        "Efecto de la experiencia laboral : El retorno a la experiencia laboral también es positivo en todos los cuantiles, pero disminuye a medida que aumentan los ingresos. Los individuos con salarios más bajos obtienen un mayor retorno por cada año adicional de experiencia, mientras que los individuos con salarios más altos experimentan un retorno decreciente a la experiencia.\n",
        "\n",
        "Efecto cuadrático de la experiencia : El coeficiente negativo de la experiencia cuadrática confirma que existe una relación no lineal entre la experiencia y los ingresos, con un retorno decreciente a medida que aumenta la experiencia. Este efecto es más pronunciado en los individuos de menores ingresos, lo que sugiere que la experiencia tiene un mayor valor para los trabajadores de bajos salarios.\n",
        "\n",
        "Efecto de la región : La región tiene un impacto notable mayor en los individuos con ingresos más bajos (cuantil 25), lo que indica que los beneficios de vivir en la costa son más significativos para aquellos con salarios bajos. Este patrón podría estar relacionado con la concentración de oportunidades laborales mejores remuneradas en ciertas regiones del país.\n",
        "\n",
        "**Resumen Final:**\n",
        "\n",
        "Los resultados de la regresión cuantílica revelan diferencias sustanciales en los efectos de la educación, la experiencia y la ubicación geográfica sobre los ingresos según el cuantil de la distribución salarial. Mientras que la educación y la experiencia son más valiosas para los trabajadores de bajos ingresos, la ubicación geográfica tiene un impacto notable mayor en este grupo, sugiriendo que las políticas que aborden las desigualdades regionales y educativas podrían ser particularmente efectivas para mejorar los ingresos de los trabajadores de bajos salarios."
      ],
      "metadata": {
        "id": "aOouW0911b1s"
      }
    }
  ]
}